{
 "cells": [
  {
   "cell_type": "code",
   "execution_count": 1,
   "id": "8c32d2d1-da57-4f23-bb6e-4a45f8f63bbd",
   "metadata": {},
   "outputs": [],
   "source": [
    "from pathlib import Path\n",
    "import pandas as pd\n",
    "import numpy as np\n",
    "from dotenv import load_dotenv\n",
    "import os\n",
    "import requests\n",
    "import json"
   ]
  },
  {
   "cell_type": "code",
   "execution_count": 2,
   "id": "a1f8adcf-340f-4f16-a49a-610af73a04cb",
   "metadata": {},
   "outputs": [],
   "source": [
    "df1 = pd.DataFrame({\"team\": ['A', 'B', 'C'], \"win\": [.5, .3, .2], 'odds': [1.4, .9, 2.5]})"
   ]
  },
  {
   "cell_type": "code",
   "execution_count": 5,
   "id": "57517b2f-703e-4877-819b-59e4d158b32d",
   "metadata": {},
   "outputs": [],
   "source": [
    "df1 = df1.set_index('team')"
   ]
  },
  {
   "cell_type": "code",
   "execution_count": 6,
   "id": "ab2ceaf4-7965-4bd0-93a0-2607125fa88e",
   "metadata": {},
   "outputs": [
    {
     "data": {
      "text/html": [
       "<div>\n",
       "<style scoped>\n",
       "    .dataframe tbody tr th:only-of-type {\n",
       "        vertical-align: middle;\n",
       "    }\n",
       "\n",
       "    .dataframe tbody tr th {\n",
       "        vertical-align: top;\n",
       "    }\n",
       "\n",
       "    .dataframe thead th {\n",
       "        text-align: right;\n",
       "    }\n",
       "</style>\n",
       "<table border=\"1\" class=\"dataframe\">\n",
       "  <thead>\n",
       "    <tr style=\"text-align: right;\">\n",
       "      <th></th>\n",
       "      <th>win</th>\n",
       "      <th>odds</th>\n",
       "    </tr>\n",
       "    <tr>\n",
       "      <th>team</th>\n",
       "      <th></th>\n",
       "      <th></th>\n",
       "    </tr>\n",
       "  </thead>\n",
       "  <tbody>\n",
       "    <tr>\n",
       "      <th>A</th>\n",
       "      <td>0.5</td>\n",
       "      <td>1.4</td>\n",
       "    </tr>\n",
       "    <tr>\n",
       "      <th>B</th>\n",
       "      <td>0.3</td>\n",
       "      <td>0.9</td>\n",
       "    </tr>\n",
       "    <tr>\n",
       "      <th>C</th>\n",
       "      <td>0.2</td>\n",
       "      <td>2.5</td>\n",
       "    </tr>\n",
       "  </tbody>\n",
       "</table>\n",
       "</div>"
      ],
      "text/plain": [
       "      win  odds\n",
       "team           \n",
       "A     0.5   1.4\n",
       "B     0.3   0.9\n",
       "C     0.2   2.5"
      ]
     },
     "execution_count": 6,
     "metadata": {},
     "output_type": "execute_result"
    }
   ],
   "source": [
    "df1"
   ]
  },
  {
   "cell_type": "code",
   "execution_count": 7,
   "id": "11b13536-7615-4364-aa10-05755ff48a40",
   "metadata": {},
   "outputs": [
    {
     "data": {
      "text/plain": [
       "0.35714285714285715"
      ]
     },
     "execution_count": 7,
     "metadata": {},
     "output_type": "execute_result"
    }
   ],
   "source": [
    ".5/1.4"
   ]
  },
  {
   "cell_type": "code",
   "execution_count": 8,
   "id": "11d68d49-4835-4b28-b2d1-bc277713f961",
   "metadata": {},
   "outputs": [
    {
     "data": {
      "text/plain": [
       "0.3333333333333333"
      ]
     },
     "execution_count": 8,
     "metadata": {},
     "output_type": "execute_result"
    }
   ],
   "source": [
    ".3/.9"
   ]
  },
  {
   "cell_type": "code",
   "execution_count": 9,
   "id": "1d491728-22b1-4360-934c-b8becd4ae3db",
   "metadata": {},
   "outputs": [
    {
     "data": {
      "text/plain": [
       "0.08"
      ]
     },
     "execution_count": 9,
     "metadata": {},
     "output_type": "execute_result"
    }
   ],
   "source": [
    ".2/2.5"
   ]
  },
  {
   "cell_type": "code",
   "execution_count": null,
   "id": "aede4e38-ae2c-4981-8090-19de6d2b8af7",
   "metadata": {},
   "outputs": [],
   "source": [
    "def "
   ]
  }
 ],
 "metadata": {
  "kernelspec": {
   "display_name": "dev",
   "language": "python",
   "name": "dev"
  },
  "language_info": {
   "codemirror_mode": {
    "name": "ipython",
    "version": 3
   },
   "file_extension": ".py",
   "mimetype": "text/x-python",
   "name": "python",
   "nbconvert_exporter": "python",
   "pygments_lexer": "ipython3",
   "version": "3.7.13"
  }
 },
 "nbformat": 4,
 "nbformat_minor": 5
}
